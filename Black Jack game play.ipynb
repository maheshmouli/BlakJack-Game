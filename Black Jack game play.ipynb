{
 "cells": [
  {
   "cell_type": "code",
   "execution_count": 1,
   "metadata": {},
   "outputs": [],
   "source": [
    "import random\n",
    "\n",
    "suits = ('Hearts', 'Diamonds', 'Spades', 'Clubs')\n",
    "ranks = ('Two', 'Three', 'Four', 'Five', 'Six', 'Seven', 'Eight', 'Nine', 'Ten', 'Jack', 'Queen', 'King', 'Ace')\n",
    "values = {'Two':2, 'Three':3, 'Four':4, 'Five':5, 'Six':6, 'Seven':7, 'Eight':8, 'Nine':9, 'Ten':10, 'Jack':10,\n",
    "         'Queen':10, 'King':10, 'Ace':11}\n",
    "\n",
    "playing = True"
   ]
  },
  {
   "cell_type": "code",
   "execution_count": 2,
   "metadata": {},
   "outputs": [],
   "source": [
    "#Card\n",
    "\n",
    "class Card:\n",
    "\n",
    "    def __init__(self,suit,rank):\n",
    "        self.suit = suit\n",
    "        self.rank = rank\n",
    "        \n",
    "    def __str__(self):\n",
    "        return self.rank + ' of ' + self.suit"
   ]
  },
  {
   "cell_type": "code",
   "execution_count": 3,
   "metadata": {},
   "outputs": [],
   "source": [
    "#Deck\n",
    "\n",
    "\n",
    "class Deck:\n",
    "    \n",
    "    def __init__(self):\n",
    "        self.deck = [] \n",
    "        for suit in suits:\n",
    "            for rank in ranks:\n",
    "                self.deck.append(Card(suit,rank)) \n",
    "    \n",
    "    def __str__(self):\n",
    "        deck_comp = ''  \n",
    "        for card in self.deck:\n",
    "            deck_comp += '\\n '+card.__str__()\n",
    "        return 'The deck has:' + deck_comp\n",
    "\n",
    "    def shuffle(self):\n",
    "        random.shuffle(self.deck)\n",
    "        \n",
    "    def deal(self):\n",
    "        single_card = self.deck.pop()\n",
    "        return single_card"
   ]
  },
  {
   "cell_type": "code",
   "execution_count": 5,
   "metadata": {},
   "outputs": [],
   "source": [
    "test_deck = Deck()"
   ]
  },
  {
   "cell_type": "code",
   "execution_count": 6,
   "metadata": {},
   "outputs": [
    {
     "name": "stdout",
     "output_type": "stream",
     "text": [
      "The deck has:\n",
      " Two of Hearts\n",
      " Three of Hearts\n",
      " Four of Hearts\n",
      " Five of Hearts\n",
      " Six of Hearts\n",
      " Seven of Hearts\n",
      " Eight of Hearts\n",
      " Nine of Hearts\n",
      " Ten of Hearts\n",
      " Jack of Hearts\n",
      " Queen of Hearts\n",
      " King of Hearts\n",
      " Ace of Hearts\n",
      " Two of Diamonds\n",
      " Three of Diamonds\n",
      " Four of Diamonds\n",
      " Five of Diamonds\n",
      " Six of Diamonds\n",
      " Seven of Diamonds\n",
      " Eight of Diamonds\n",
      " Nine of Diamonds\n",
      " Ten of Diamonds\n",
      " Jack of Diamonds\n",
      " Queen of Diamonds\n",
      " King of Diamonds\n",
      " Ace of Diamonds\n",
      " Two of Spades\n",
      " Three of Spades\n",
      " Four of Spades\n",
      " Five of Spades\n",
      " Six of Spades\n",
      " Seven of Spades\n",
      " Eight of Spades\n",
      " Nine of Spades\n",
      " Ten of Spades\n",
      " Jack of Spades\n",
      " Queen of Spades\n",
      " King of Spades\n",
      " Ace of Spades\n",
      " Two of Clubs\n",
      " Three of Clubs\n",
      " Four of Clubs\n",
      " Five of Clubs\n",
      " Six of Clubs\n",
      " Seven of Clubs\n",
      " Eight of Clubs\n",
      " Nine of Clubs\n",
      " Ten of Clubs\n",
      " Jack of Clubs\n",
      " Queen of Clubs\n",
      " King of Clubs\n",
      " Ace of Clubs\n"
     ]
    }
   ],
   "source": [
    "print(test_deck)"
   ]
  },
  {
   "cell_type": "code",
   "execution_count": 19,
   "metadata": {},
   "outputs": [],
   "source": [
    "#Hand class to hold the cards\n",
    "\n",
    "class Hand:\n",
    "    def __init__(self):\n",
    "        self.cards = []  \n",
    "        self.value = 0   \n",
    "        self.aces = 0    \n",
    "    \n",
    "    def add_card(self,card):\n",
    "        self.cards.append(card)\n",
    "        self.value += values[card.rank]\n",
    "        if card.rank ==\"Ace\":\n",
    "            self.aces += 1\n",
    "    \n",
    "    def adjust_for_ace(self):\n",
    "        while self.value > 2 and self.aces:\n",
    "            self.value -= 10\n",
    "            self.aces -= 1"
   ]
  },
  {
   "cell_type": "code",
   "execution_count": 20,
   "metadata": {},
   "outputs": [],
   "source": [
    "test_deck = Deck()"
   ]
  },
  {
   "cell_type": "code",
   "execution_count": 21,
   "metadata": {},
   "outputs": [],
   "source": [
    "test_deck.shuffle()"
   ]
  },
  {
   "cell_type": "code",
   "execution_count": 22,
   "metadata": {},
   "outputs": [],
   "source": [
    "test_player = Hand()"
   ]
  },
  {
   "cell_type": "code",
   "execution_count": 23,
   "metadata": {},
   "outputs": [],
   "source": [
    "test_player.add_card(test_deck.deal())"
   ]
  },
  {
   "cell_type": "code",
   "execution_count": 24,
   "metadata": {},
   "outputs": [],
   "source": [
    "test_player.add_card(test_deck.deal())"
   ]
  },
  {
   "cell_type": "code",
   "execution_count": 25,
   "metadata": {},
   "outputs": [
    {
     "data": {
      "text/plain": [
       "10"
      ]
     },
     "execution_count": 25,
     "metadata": {},
     "output_type": "execute_result"
    }
   ],
   "source": [
    "test_player.value"
   ]
  },
  {
   "cell_type": "code",
   "execution_count": 26,
   "metadata": {},
   "outputs": [
    {
     "name": "stdout",
     "output_type": "stream",
     "text": [
      "Six of Clubs\n",
      "Four of Clubs\n"
     ]
    }
   ],
   "source": [
    "for card in test_player.cards:\n",
    "    print(card)"
   ]
  },
  {
   "cell_type": "code",
   "execution_count": 27,
   "metadata": {},
   "outputs": [],
   "source": [
    "#Chips class for adding bet and removing\n",
    "\n",
    "class Chips:\n",
    "    \n",
    "    def __init__(self):\n",
    "        self.total = 100\n",
    "        self.bet = 0\n",
    "        \n",
    "    def win_bet(self):\n",
    "        self.total += self.bet\n",
    "        \n",
    "    def lose_bet(self):\n",
    "        self.total -= self.bet"
   ]
  },
  {
   "cell_type": "code",
   "execution_count": 28,
   "metadata": {},
   "outputs": [],
   "source": [
    "#while loop for getting the correct integer\n",
    "\n",
    "def take_bet(chips):\n",
    "    while True:\n",
    "        try:\n",
    "            chips.bet = int(input(\"How many chips will you add to bet\"))\n",
    "        except ValueError:\n",
    "            print(\"Try again, Enter a integer value\")\n",
    "        else:\n",
    "            if chips.bet > chips.total:\n",
    "                print(\"Your bet exceeded\".chips.total)\n",
    "            else:\n",
    "                break\n",
    "                "
   ]
  },
  {
   "cell_type": "code",
   "execution_count": 29,
   "metadata": {},
   "outputs": [],
   "source": [
    "def hit(deck, hand):\n",
    "    hand.add_card(deck.deal())\n",
    "    hand.adjust_for_ace()"
   ]
  },
  {
   "cell_type": "code",
   "execution_count": 30,
   "metadata": {},
   "outputs": [],
   "source": [
    "#function for hit or stand\n",
    "\n",
    "def hit_or_stand(deck, hand):\n",
    "    \n",
    "    global playing\n",
    "    \n",
    "    while True:\n",
    "        x = input(\"Like to hit or stand? Enter 'h' or 's': \")\n",
    "        if x[0].lower() == 'h':\n",
    "            hit(deck,hand)\n",
    "        elif x[0].lower() == 's':\n",
    "            print(\"Player stnads. Dealer is playing\")\n",
    "            playing = False\n",
    "        else:\n",
    "            print(\"Please Try Again\")\n",
    "            continue\n",
    "        break"
   ]
  },
  {
   "cell_type": "code",
   "execution_count": 31,
   "metadata": {},
   "outputs": [],
   "source": [
    "#displaying the cards\n",
    "\n",
    "\n",
    "def show_some(player,dealer):\n",
    "    print(\" Dealer's Hand: \")\n",
    "    print(\" <card hidden>\")\n",
    "    print('',dealer.cards[1])\n",
    "    print(\"\\n Player's Hand: \", *player.cards, sep='\\n')\n",
    "    \n",
    "def show_all(player,dealer):\n",
    "    print(\"\\n Dealer's Hand: \", *dealer.cards, sep='\\n')\n",
    "    print(\"Dealer's hand = \",dealer.value)\n",
    "    print(\"\\n Player's Hand:\", *player.cards, sep=\"\\n\")\n",
    "    print(\"Player's Hand = \",player.value)"
   ]
  },
  {
   "cell_type": "code",
   "execution_count": 32,
   "metadata": {},
   "outputs": [],
   "source": [
    "# function for end game scenario\n",
    "\n",
    "\n",
    "def player_busts(player, dealer, chips):\n",
    "    print(\"Player Busts\")\n",
    "    chips.lose_bet()\n",
    "    \n",
    "def player_wins(player, dealer,chips):\n",
    "    print(\"Player wins\")\n",
    "    chips.win_bet()\n",
    "    \n",
    "def dealer_busts(player, dealer,chips):\n",
    "    print(\"Dealer Busts\")\n",
    "    chips.win_bet()\n",
    "    \n",
    "def dealer_wins(player,dealer,chips):\n",
    "    print(\"Dealer Wins\")\n",
    "    chips.lose_bet()\n",
    "    \n",
    "def push(player, dealer):\n",
    "    print(\"Dealer and Player tie. It is a push\")\n",
    "    "
   ]
  },
  {
   "cell_type": "code",
   "execution_count": 37,
   "metadata": {},
   "outputs": [
    {
     "name": "stdout",
     "output_type": "stream",
     "text": [
      "Welcome to BlackJack. Get as close to 21 as you can win thout going over \n",
      "    Dealer hits until she raches 17. Aces count as 1 or 11\n",
      "How many chips will you add to bet5\n",
      " Dealer's Hand: \n",
      " <card hidden>\n",
      " Jack of Hearts\n",
      "\n",
      " Player's Hand: \n",
      "Five of Hearts\n",
      "King of Hearts\n",
      "\n",
      " Dealer's Hand: \n",
      "King of Spades\n",
      "Jack of Hearts\n",
      "Dealer's hand =  20\n",
      "\n",
      " Player's Hand:\n",
      "Five of Hearts\n",
      "King of Hearts\n",
      "Player's Hand =  15\n",
      "Dealer Wins\n",
      "\n",
      " Players winnings stand at  95\n",
      "Interested to play another round? Enter 'y' or 'n'y\n",
      "Welcome to BlackJack. Get as close to 21 as you can win thout going over \n",
      "    Dealer hits until she raches 17. Aces count as 1 or 11\n",
      "How many chips will you add to bet5\n",
      " Dealer's Hand: \n",
      " <card hidden>\n",
      " Five of Hearts\n",
      "\n",
      " Player's Hand: \n",
      "Four of Diamonds\n",
      "Nine of Clubs\n",
      "Like to hit or stand? Enter 'h' or 's': s\n",
      "Player stnads. Dealer is playing\n",
      " Dealer's Hand: \n",
      " <card hidden>\n",
      " Five of Hearts\n",
      "\n",
      " Player's Hand: \n",
      "Four of Diamonds\n",
      "Nine of Clubs\n",
      "\n",
      " Dealer's Hand: \n",
      "Queen of Diamonds\n",
      "Five of Hearts\n",
      "Nine of Diamonds\n",
      "Dealer's hand =  24\n",
      "\n",
      " Player's Hand:\n",
      "Four of Diamonds\n",
      "Nine of Clubs\n",
      "Player's Hand =  13\n",
      "Dealer Busts\n",
      "\n",
      " Players winnings stand at  105\n",
      "Interested to play another round? Enter 'y' or 'n'y\n",
      "Welcome to BlackJack. Get as close to 21 as you can win thout going over \n",
      "    Dealer hits until she raches 17. Aces count as 1 or 11\n",
      "How many chips will you add to bet10\n",
      " Dealer's Hand: \n",
      " <card hidden>\n",
      " Four of Hearts\n",
      "\n",
      " Player's Hand: \n",
      "Five of Spades\n",
      "Four of Clubs\n",
      "Like to hit or stand? Enter 'h' or 's': h\n",
      " Dealer's Hand: \n",
      " <card hidden>\n",
      " Four of Hearts\n",
      "\n",
      " Player's Hand: \n",
      "Five of Spades\n",
      "Four of Clubs\n",
      "Queen of Clubs\n",
      "Like to hit or stand? Enter 'h' or 's': h\n",
      " Dealer's Hand: \n",
      " <card hidden>\n",
      " Four of Hearts\n",
      "\n",
      " Player's Hand: \n",
      "Five of Spades\n",
      "Four of Clubs\n",
      "Queen of Clubs\n",
      "Eight of Diamonds\n",
      "Player Busts\n",
      "\n",
      " Players winnings stand at  90\n",
      "Interested to play another round? Enter 'y' or 'n'n\n",
      "Thanks for Playing\n"
     ]
    }
   ],
   "source": [
    "#Game code \n",
    "\n",
    "\n",
    "while True:\n",
    "    \n",
    "    print(\"Welcome to BlackJack. Get as close to 21 as you can win thout going over \\n\\\n",
    "    Dealer hits until she raches 17. Aces count as 1 or 11\")\n",
    "    \n",
    "    deck = Deck()\n",
    "    deck.shuffle()\n",
    "    \n",
    "    player_hand = Hand()\n",
    "    player_hand.add_card(deck.deal())\n",
    "    player_hand.add_card(deck.deal())\n",
    "    \n",
    "    dealer_hand = Hand()\n",
    "    dealer_hand.add_card(deck.deal())\n",
    "    dealer_hand.add_card(deck.deal())\n",
    "    \n",
    "    player_chips = Chips()\n",
    "    take_bet(player_chips)\n",
    "    show_some(player_hand,dealer_hand)\n",
    "    \n",
    "    while playing:\n",
    "        hit_or_stand(deck,player_hand)\n",
    "        show_some(player_hand,dealer_hand)\n",
    "        \n",
    "        if player_hand.value > 21:\n",
    "            player_busts(player_hand,dealer_hand,player_chips)\n",
    "            break\n",
    "            \n",
    "    if player_hand.value <= 21:\n",
    "        while dealer_hand.value < 17:\n",
    "            hit(deck,dealer_hand)\n",
    "            \n",
    "        show_all(player_hand, dealer_hand)\n",
    "        \n",
    "        if dealer_hand.value > 21:\n",
    "            dealer_busts(player_hand, dealer_hand, player_chips)\n",
    "            \n",
    "        elif dealer_hand.value > player_hand.value:\n",
    "            dealer_wins(player_hand, dealer_hand, player_chips)\n",
    "        \n",
    "        elif dealer_hand.value < player_hand.value:\n",
    "            player_wins(player_hand, dealer_hand, player_chips)\n",
    "        else:\n",
    "            push(player_hand, dealer_hand)\n",
    "        \n",
    "        \n",
    "    print(\"\\n Players winnings stand at \",player_chips.total)\n",
    "    \n",
    "    new_game = input(\"Interested to play another round? Enter 'y' or 'n'\")\n",
    "    \n",
    "    if new_game[0].lower() == 'y':\n",
    "        playing = True\n",
    "        continue\n",
    "    else:\n",
    "        print(\"Thanks for Playing\")\n",
    "        break\n",
    "        \n",
    "        \n"
   ]
  },
  {
   "cell_type": "code",
   "execution_count": null,
   "metadata": {},
   "outputs": [],
   "source": []
  }
 ],
 "metadata": {
  "kernelspec": {
   "display_name": "Python 3",
   "language": "python",
   "name": "python3"
  },
  "language_info": {
   "codemirror_mode": {
    "name": "ipython",
    "version": 3
   },
   "file_extension": ".py",
   "mimetype": "text/x-python",
   "name": "python",
   "nbconvert_exporter": "python",
   "pygments_lexer": "ipython3",
   "version": "3.8.3"
  }
 },
 "nbformat": 4,
 "nbformat_minor": 4
}
